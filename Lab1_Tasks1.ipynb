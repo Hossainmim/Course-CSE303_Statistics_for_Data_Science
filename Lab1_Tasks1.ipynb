{
  "cells": [
    {
      "cell_type": "markdown",
      "metadata": {
        "id": "jVt420YpLVvo"
      },
      "source": [
        "# Lab 1 Assignment: Basics of Python\n",
        "\n",
        "Solve the questions in this jupyter notebook. You must:\n",
        "- make your code tidy with appropriate comments.\n",
        "- Use the code segment below the questions.\n",
        "- Submit the code by 11:59 PM, Saturday\n",
        ""
      ]
    },
    {
      "cell_type": "markdown",
      "metadata": {
        "id": "h3kCiRDiKtfr"
      },
      "source": [
        "# 1. Read two inputs from the user. Write a Python program to print their product. If the product is greater than 1000, then print their sum as well."
      ]
    },
    {
      "cell_type": "code",
      "execution_count": 30,
      "metadata": {
        "colab": {
          "base_uri": "https://localhost:8080/"
        },
        "id": "lTywoiPH4NpV",
        "outputId": "f60b36f5-3516-4b2e-bcd8-7e2cfcff34f9"
      },
      "outputs": [
        {
          "output_type": "stream",
          "name": "stdout",
          "text": [
            "Enter the 1st number: 504\n",
            "Enter the 2nd number: 507\n",
            "1011\n"
          ]
        }
      ],
      "source": [
        "def Result():\n",
        " Number_1 = int(input(\"Enter the 1st number: \"))\n",
        " Number_2 = int(input(\"Enter the 2nd number: \"))\n",
        "\n",
        " Product = (Number_1 + Number_2)\n",
        " if Product > 1000:\n",
        "   return Product\n",
        "\n",
        " else :\n",
        "   return (Number_1 * Number_2)\n",
        "\n",
        "print(Result())\n"
      ]
    },
    {
      "cell_type": "markdown",
      "metadata": {
        "id": "xkPxeljPM6PQ"
      },
      "source": [
        "# 2. Write a Python program to find the area and perimeter of a circle. Read inputs from the user."
      ]
    },
    {
      "cell_type": "code",
      "execution_count": 3,
      "metadata": {
        "id": "Hj_PKxSgNBH5",
        "colab": {
          "base_uri": "https://localhost:8080/"
        },
        "outputId": "d3a51ff2-8cc1-481e-afe4-1020ec7ca48c"
      },
      "outputs": [
        {
          "output_type": "stream",
          "name": "stdout",
          "text": [
            "Enter the radius of the circle :10\n",
            "Area of the circle is: 314.16\n",
            "Perimeter of the circle is: 62.832\n"
          ]
        }
      ],
      "source": [
        "import math\n",
        "\n",
        "Radius = int(input (\"Enter the radius of the circle :\"))\n",
        "\n",
        "Pi = 3.1416\n",
        "\n",
        "Area = (Pi * Radius * Radius)\n",
        "print (\"Area of the circle is:\", Area)\n",
        "\n",
        "Perimeter = (2 * Pi * Radius)\n",
        "print (\"Perimeter of the circle is:\", Perimeter)\n",
        "\n"
      ]
    },
    {
      "cell_type": "markdown",
      "metadata": {
        "id": "OZDC6jCYNCJj"
      },
      "source": [
        "# 3. Given a positive integer N (read from the user), write a Python program to calculate the value of the following series.\n",
        "\n",
        "> Indented block\n",
        "\n",
        "\n",
        "`1^2 + 2^2 + 3^2 + 4^2 + … + N^2`"
      ]
    },
    {
      "cell_type": "code",
      "execution_count": 1,
      "metadata": {
        "id": "G0kmtdqoNbio",
        "colab": {
          "base_uri": "https://localhost:8080/"
        },
        "outputId": "1e5caf69-b0d9-4a17-ce83-423bf3c8624e"
      },
      "outputs": [
        {
          "output_type": "stream",
          "name": "stdout",
          "text": [
            "Enter the positive integer number : 4\n",
            "Addition of the following series : 30\n"
          ]
        }
      ],
      "source": [
        "Number = int(input (\"Enter the positive integer number : \"))\n",
        "\n",
        "Addition = 0\n",
        "for N in range (1, (Number+1)):\n",
        "   Addition += (N**2)\n",
        "\n",
        "print (( \"Addition of the following series :\") , Addition)"
      ]
    },
    {
      "cell_type": "markdown",
      "metadata": {
        "id": "1P8HMSmJNhAB"
      },
      "source": [
        "# 4. Given a positive integer N (read from the user), write a Python program to check if the number is prime or not."
      ]
    },
    {
      "cell_type": "code",
      "execution_count": 25,
      "metadata": {
        "id": "1RM57x4eNlFs",
        "colab": {
          "base_uri": "https://localhost:8080/"
        },
        "outputId": "966b9140-2313-4d4d-9301-3e076f5abb59"
      },
      "outputs": [
        {
          "output_type": "stream",
          "name": "stdout",
          "text": [
            "Enter the positive integer number: 100\n",
            "The number is not prime\n"
          ]
        }
      ],
      "source": [
        "Number = int (input (\"Enter the positive integer number: \"))\n",
        "for N in range (2, Number):\n",
        "\n",
        "  if (Number % N) == 0:\n",
        "    print (\"The number is not prime\")\n",
        "    break\n",
        "\n",
        "else:\n",
        "  print (\"The number is prime\")\n",
        ""
      ]
    },
    {
      "cell_type": "markdown",
      "metadata": {
        "id": "lbI7vio0Nsg-"
      },
      "source": [
        "# 5. Given a list of numbers (hardcoded in the program), write a Python program to calculate the sum of the list. Do not use any built-in function."
      ]
    },
    {
      "cell_type": "code",
      "execution_count": 37,
      "metadata": {
        "id": "ZtI16tjCNu1y",
        "colab": {
          "base_uri": "https://localhost:8080/"
        },
        "outputId": "d59c7a1e-155f-4f93-9e3d-8e0a924baa2f"
      },
      "outputs": [
        {
          "output_type": "stream",
          "name": "stdout",
          "text": [
            "The sum of number list : 14\n"
          ]
        }
      ],
      "source": [
        "Number_list = [2, 3, 4 ,5]\n",
        "X = 0\n",
        "for N in Number_list:\n",
        "  X = (X + N)\n",
        "\n",
        "print(\"The sum of number list :\", X)"
      ]
    },
    {
      "cell_type": "markdown",
      "metadata": {
        "id": "g1-QgspnN77g"
      },
      "source": [
        "# 6. Given a list of numbers (hardcoded in the program), write a Python program to calculate the sum of the even-indexed elements in the list."
      ]
    },
    {
      "cell_type": "code",
      "execution_count": 22,
      "metadata": {
        "id": "Q8ymeCypN-0d",
        "colab": {
          "base_uri": "https://localhost:8080/"
        },
        "outputId": "37f9cd1b-caf0-4c59-cea3-fd1b01ad8d13"
      },
      "outputs": [
        {
          "output_type": "stream",
          "name": "stdout",
          "text": [
            "The sum of the even-indexed elements in the list : 6\n"
          ]
        }
      ],
      "source": [
        "Number_list = [2, 3, 4, 5]\n",
        "X = 0\n",
        "\n",
        "for N in Number_list:\n",
        "  Y = Number_list.index(N)\n",
        "\n",
        "  if (Y % 2) == 0:\n",
        "    X += N\n",
        "\n",
        "print(\"The sum of the even-indexed elements in the list :\", X)\n",
        "\n"
      ]
    },
    {
      "cell_type": "markdown",
      "metadata": {
        "id": "BgRKgShEOLHl"
      },
      "source": [
        "# 7. Given a list of numbers (hardcoded in the program), write a Python program to find the second largest element of the list."
      ]
    },
    {
      "cell_type": "code",
      "execution_count": 24,
      "metadata": {
        "id": "eOqMwnOfONGA",
        "colab": {
          "base_uri": "https://localhost:8080/"
        },
        "outputId": "f44d5ad6-409a-4dc5-962c-196d4df1e741"
      },
      "outputs": [
        {
          "output_type": "stream",
          "name": "stdout",
          "text": [
            "The second largest element of the list : 4\n"
          ]
        }
      ],
      "source": [
        "Number_list = [2, 3, 4, 5]\n",
        "\n",
        "X = 0\n",
        "Number_list.sort()\n",
        "\n",
        "print (\"The second largest element of the list :\", Number_list[-2] )"
      ]
    },
    {
      "cell_type": "markdown",
      "metadata": {
        "id": "rbCQwcK0ORTa"
      },
      "source": [
        "# 8. Given a string, display only those characters which are present at an even index number. Read inputs from the user."
      ]
    },
    {
      "cell_type": "code",
      "execution_count": 10,
      "metadata": {
        "id": "-x-qAPwnOT3K",
        "colab": {
          "base_uri": "https://localhost:8080/"
        },
        "outputId": "e6ac0439-4894-4a28-e19a-1d04b9dc6042"
      },
      "outputs": [
        {
          "output_type": "stream",
          "name": "stdout",
          "text": [
            "Enter the string: Hossain\n",
            "H\n",
            "s\n",
            "a\n",
            "n\n"
          ]
        }
      ],
      "source": [
        "I = str(input(\"Enter the string: \"))\n",
        "J = len(I)\n",
        "\n",
        "for N in  range(0,J):\n",
        "  if (N % 2) == 0:\n",
        "\n",
        "    print(I[N])"
      ]
    },
    {
      "cell_type": "markdown",
      "metadata": {
        "id": "2vIzxCHgOabN"
      },
      "source": [
        "# 9. Given a string and an integer number N, remove characters from a string starting from zero up to N and print the new string. N must be less than the length of the string. Read inputs from the user. Do not use any built-in function."
      ]
    },
    {
      "cell_type": "code",
      "execution_count": 32,
      "metadata": {
        "id": "qAaNW6z4OcwC",
        "colab": {
          "base_uri": "https://localhost:8080/"
        },
        "outputId": "d02a24fd-7a1c-4f60-b883-9bb34c319eb3"
      },
      "outputs": [
        {
          "output_type": "stream",
          "name": "stdout",
          "text": [
            "Enter the string: Hossain\n",
            "Enter a number less than 7 : 4\n",
            "The new string:  in\n"
          ]
        }
      ],
      "source": [
        "I = str(input(\"Enter the string: \"))\n",
        "J = 0\n",
        "\n",
        "for t in I:\n",
        "  J = J + 1\n",
        "\n",
        "N = int(input(\"Enter a number less than %d : \" % J))\n",
        "K = \"\"\n",
        "\n",
        "for R in range(0, J):\n",
        "  if (R > N):\n",
        "    K = (K + I[R])\n",
        "\n",
        "print(\"The new string: \" , K)"
      ]
    },
    {
      "cell_type": "markdown",
      "metadata": {
        "id": "Z0SdoOwoOlzP"
      },
      "source": [
        " 10. Given a string, find the count of the substring “CSE303” appeared in the given string. Do not use any built-in function.\n",
        "\n",
        " The string is: \"This is CSE303 course. The name of CSE303 is: Statistics for Data Science. It's a fundamental CSE course for future data scientists.\""
      ]
    },
    {
      "cell_type": "code",
      "execution_count": 14,
      "metadata": {
        "id": "D5we1z4CPDTe",
        "colab": {
          "base_uri": "https://localhost:8080/"
        },
        "outputId": "a19a8cf8-a1e4-430c-ed73-264886f5845e"
      },
      "outputs": [
        {
          "output_type": "stream",
          "name": "stdout",
          "text": [
            "The count of the substring “CSE303”:  2\n"
          ]
        }
      ],
      "source": [
        "I = \"This is CSE303 course. The name of CSE303 is: Statistics for Data Science. It's a fundamental CSE course for future data scientists.\"\n",
        "J = \"CSE303\"\n",
        "N = 0\n",
        "X = 0\n",
        "\n",
        "for K in I:\n",
        "    N = (N+1)\n",
        "\n",
        "for i in range(0,n):\n",
        "    if (I[i-5] == 'C') and (I[i-4] == 'S') and (I[i-3] == 'E') and (I[i-2] == '3') and  (I[i-1] == '0') and (I[i] == '3'):\n",
        "      X = (X+1)\n",
        "\n",
        "print(\"The count of the substring “CSE303”: \" ,X)"
      ]
    },
    {
      "cell_type": "markdown",
      "metadata": {
        "id": "HVb5PdKyPfKT"
      },
      "source": [
        "# 11. Given a two list of numbers (hardcoded in the program), create a new list such that new list should contain only odd numbers from the first list and even numbers from the second list. You can assume that the length of both list are the same."
      ]
    },
    {
      "cell_type": "code",
      "execution_count": 19,
      "metadata": {
        "id": "TojILvwsPiXG",
        "colab": {
          "base_uri": "https://localhost:8080/"
        },
        "outputId": "0ee88b38-50e7-44d8-d749-eb2e5b6dfdcd"
      },
      "outputs": [
        {
          "output_type": "stream",
          "name": "stdout",
          "text": [
            "The new number list:  [3, 5, 6, 8]\n"
          ]
        }
      ],
      "source": [
        "List_Num_1 = [3,4,5,10]\n",
        "List_Num_2 = [6,7,8,9]\n",
        "List_Num_3 = []\n",
        "\n",
        "for I in List_Num_1:\n",
        "  if(I % 2!=0):\n",
        "    List_Num_3.append(I)\n",
        "\n",
        "for J in List_Num_2:\n",
        "\n",
        "  if(J%2==0):\n",
        "    List_Num_3.append(J)\n",
        "\n",
        "print(\"The new number list: \" ,(List_Num_3))"
      ]
    },
    {
      "cell_type": "markdown",
      "metadata": {
        "id": "Nq1BDazRPLGJ"
      },
      "source": [
        "\n",
        "\n",
        "# 12. Given a string, write a python function that will check if it is palindrome or not. Define a function named palindrome_checker_(your-student-id) in your program."
      ]
    },
    {
      "cell_type": "code",
      "execution_count": 5,
      "metadata": {
        "colab": {
          "base_uri": "https://localhost:8080/"
        },
        "id": "csA5TRp34Npg",
        "outputId": "cf233ff3-bcf3-4648-f49a-0d00cdc7c62b"
      },
      "outputs": [
        {
          "output_type": "stream",
          "name": "stdout",
          "text": [
            "Enter your-student-id: 2021-1-60-071\n",
            "It is not a palindrome.\n"
          ]
        }
      ],
      "source": [
        "def Palindrome_checker(N,ST,M):\n",
        "  if N >= (M/2):\n",
        "    return True\n",
        "\n",
        "  elif ST[N] != ST[(M-N)-1]:\n",
        "    return False\n",
        "\n",
        "  return Palindrome_checker((N+1),ST,M)\n",
        "\n",
        "I = str(input(\"Enter your-student-id: \"))\n",
        "\n",
        "J = len(I)\n",
        "\n",
        "I = I.lower()\n",
        "\n",
        "if Palindrome_checker(0,I,J) == True:\n",
        "  print(\"It is a palindrome.\")\n",
        "\n",
        "else:\n",
        "  print(\"It is not a palindrome.\")"
      ]
    },
    {
      "cell_type": "markdown",
      "metadata": {
        "id": "cj51WVMY4Npg"
      },
      "source": [
        "# BONUS !\n",
        "\n",
        "### Go to Kaggle.com\n",
        "### Download Titanic Dataset\n",
        "### Load the Titatnic Dataset in Python Using Pandas Library\n"
      ]
    },
    {
      "cell_type": "code",
      "execution_count": 7,
      "metadata": {
        "id": "NmyMklbXPeOL"
      },
      "outputs": [],
      "source": [
        "import pandas"
      ]
    },
    {
      "cell_type": "code",
      "source": [
        "Data = pandas.read_csv(\"titanic.csv\")\n"
      ],
      "metadata": {
        "id": "Ru9LlHarMn80"
      },
      "execution_count": 13,
      "outputs": []
    },
    {
      "cell_type": "code",
      "source": [
        "Data\n"
      ],
      "metadata": {
        "colab": {
          "base_uri": "https://localhost:8080/",
          "height": 423
        },
        "id": "R05MwZRMMn8A",
        "outputId": "8eb4efc8-c828-4481-c00d-871ea8aa4729"
      },
      "execution_count": 14,
      "outputs": [
        {
          "output_type": "execute_result",
          "data": {
            "text/plain": [
              "     PassengerId  Survived  Pclass  \\\n",
              "0              1         0       3   \n",
              "1              2         1       1   \n",
              "2              3         1       3   \n",
              "3              4         1       1   \n",
              "4              5         0       3   \n",
              "..           ...       ...     ...   \n",
              "886          887         0       2   \n",
              "887          888         1       1   \n",
              "888          889         0       3   \n",
              "889          890         1       1   \n",
              "890          891         0       3   \n",
              "\n",
              "                                                  Name     Sex   Age  SibSp  \\\n",
              "0                              Braund, Mr. Owen Harris    male  22.0      1   \n",
              "1    Cumings, Mrs. John Bradley (Florence Briggs Th...  female  38.0      1   \n",
              "2                               Heikkinen, Miss. Laina  female  26.0      0   \n",
              "3         Futrelle, Mrs. Jacques Heath (Lily May Peel)  female  35.0      1   \n",
              "4                             Allen, Mr. William Henry    male  35.0      0   \n",
              "..                                                 ...     ...   ...    ...   \n",
              "886                              Montvila, Rev. Juozas    male  27.0      0   \n",
              "887                       Graham, Miss. Margaret Edith  female  19.0      0   \n",
              "888           Johnston, Miss. Catherine Helen \"Carrie\"  female   NaN      1   \n",
              "889                              Behr, Mr. Karl Howell    male  26.0      0   \n",
              "890                                Dooley, Mr. Patrick    male  32.0      0   \n",
              "\n",
              "     Parch            Ticket     Fare Cabin Embarked  \n",
              "0        0         A/5 21171   7.2500   NaN        S  \n",
              "1        0          PC 17599  71.2833   C85        C  \n",
              "2        0  STON/O2. 3101282   7.9250   NaN        S  \n",
              "3        0            113803  53.1000  C123        S  \n",
              "4        0            373450   8.0500   NaN        S  \n",
              "..     ...               ...      ...   ...      ...  \n",
              "886      0            211536  13.0000   NaN        S  \n",
              "887      0            112053  30.0000   B42        S  \n",
              "888      2        W./C. 6607  23.4500   NaN        S  \n",
              "889      0            111369  30.0000  C148        C  \n",
              "890      0            370376   7.7500   NaN        Q  \n",
              "\n",
              "[891 rows x 12 columns]"
            ],
            "text/html": [
              "\n",
              "  <div id=\"df-4316c8b9-375d-47ab-a16b-d767b5ad3cc8\" class=\"colab-df-container\">\n",
              "    <div>\n",
              "<style scoped>\n",
              "    .dataframe tbody tr th:only-of-type {\n",
              "        vertical-align: middle;\n",
              "    }\n",
              "\n",
              "    .dataframe tbody tr th {\n",
              "        vertical-align: top;\n",
              "    }\n",
              "\n",
              "    .dataframe thead th {\n",
              "        text-align: right;\n",
              "    }\n",
              "</style>\n",
              "<table border=\"1\" class=\"dataframe\">\n",
              "  <thead>\n",
              "    <tr style=\"text-align: right;\">\n",
              "      <th></th>\n",
              "      <th>PassengerId</th>\n",
              "      <th>Survived</th>\n",
              "      <th>Pclass</th>\n",
              "      <th>Name</th>\n",
              "      <th>Sex</th>\n",
              "      <th>Age</th>\n",
              "      <th>SibSp</th>\n",
              "      <th>Parch</th>\n",
              "      <th>Ticket</th>\n",
              "      <th>Fare</th>\n",
              "      <th>Cabin</th>\n",
              "      <th>Embarked</th>\n",
              "    </tr>\n",
              "  </thead>\n",
              "  <tbody>\n",
              "    <tr>\n",
              "      <th>0</th>\n",
              "      <td>1</td>\n",
              "      <td>0</td>\n",
              "      <td>3</td>\n",
              "      <td>Braund, Mr. Owen Harris</td>\n",
              "      <td>male</td>\n",
              "      <td>22.0</td>\n",
              "      <td>1</td>\n",
              "      <td>0</td>\n",
              "      <td>A/5 21171</td>\n",
              "      <td>7.2500</td>\n",
              "      <td>NaN</td>\n",
              "      <td>S</td>\n",
              "    </tr>\n",
              "    <tr>\n",
              "      <th>1</th>\n",
              "      <td>2</td>\n",
              "      <td>1</td>\n",
              "      <td>1</td>\n",
              "      <td>Cumings, Mrs. John Bradley (Florence Briggs Th...</td>\n",
              "      <td>female</td>\n",
              "      <td>38.0</td>\n",
              "      <td>1</td>\n",
              "      <td>0</td>\n",
              "      <td>PC 17599</td>\n",
              "      <td>71.2833</td>\n",
              "      <td>C85</td>\n",
              "      <td>C</td>\n",
              "    </tr>\n",
              "    <tr>\n",
              "      <th>2</th>\n",
              "      <td>3</td>\n",
              "      <td>1</td>\n",
              "      <td>3</td>\n",
              "      <td>Heikkinen, Miss. Laina</td>\n",
              "      <td>female</td>\n",
              "      <td>26.0</td>\n",
              "      <td>0</td>\n",
              "      <td>0</td>\n",
              "      <td>STON/O2. 3101282</td>\n",
              "      <td>7.9250</td>\n",
              "      <td>NaN</td>\n",
              "      <td>S</td>\n",
              "    </tr>\n",
              "    <tr>\n",
              "      <th>3</th>\n",
              "      <td>4</td>\n",
              "      <td>1</td>\n",
              "      <td>1</td>\n",
              "      <td>Futrelle, Mrs. Jacques Heath (Lily May Peel)</td>\n",
              "      <td>female</td>\n",
              "      <td>35.0</td>\n",
              "      <td>1</td>\n",
              "      <td>0</td>\n",
              "      <td>113803</td>\n",
              "      <td>53.1000</td>\n",
              "      <td>C123</td>\n",
              "      <td>S</td>\n",
              "    </tr>\n",
              "    <tr>\n",
              "      <th>4</th>\n",
              "      <td>5</td>\n",
              "      <td>0</td>\n",
              "      <td>3</td>\n",
              "      <td>Allen, Mr. William Henry</td>\n",
              "      <td>male</td>\n",
              "      <td>35.0</td>\n",
              "      <td>0</td>\n",
              "      <td>0</td>\n",
              "      <td>373450</td>\n",
              "      <td>8.0500</td>\n",
              "      <td>NaN</td>\n",
              "      <td>S</td>\n",
              "    </tr>\n",
              "    <tr>\n",
              "      <th>...</th>\n",
              "      <td>...</td>\n",
              "      <td>...</td>\n",
              "      <td>...</td>\n",
              "      <td>...</td>\n",
              "      <td>...</td>\n",
              "      <td>...</td>\n",
              "      <td>...</td>\n",
              "      <td>...</td>\n",
              "      <td>...</td>\n",
              "      <td>...</td>\n",
              "      <td>...</td>\n",
              "      <td>...</td>\n",
              "    </tr>\n",
              "    <tr>\n",
              "      <th>886</th>\n",
              "      <td>887</td>\n",
              "      <td>0</td>\n",
              "      <td>2</td>\n",
              "      <td>Montvila, Rev. Juozas</td>\n",
              "      <td>male</td>\n",
              "      <td>27.0</td>\n",
              "      <td>0</td>\n",
              "      <td>0</td>\n",
              "      <td>211536</td>\n",
              "      <td>13.0000</td>\n",
              "      <td>NaN</td>\n",
              "      <td>S</td>\n",
              "    </tr>\n",
              "    <tr>\n",
              "      <th>887</th>\n",
              "      <td>888</td>\n",
              "      <td>1</td>\n",
              "      <td>1</td>\n",
              "      <td>Graham, Miss. Margaret Edith</td>\n",
              "      <td>female</td>\n",
              "      <td>19.0</td>\n",
              "      <td>0</td>\n",
              "      <td>0</td>\n",
              "      <td>112053</td>\n",
              "      <td>30.0000</td>\n",
              "      <td>B42</td>\n",
              "      <td>S</td>\n",
              "    </tr>\n",
              "    <tr>\n",
              "      <th>888</th>\n",
              "      <td>889</td>\n",
              "      <td>0</td>\n",
              "      <td>3</td>\n",
              "      <td>Johnston, Miss. Catherine Helen \"Carrie\"</td>\n",
              "      <td>female</td>\n",
              "      <td>NaN</td>\n",
              "      <td>1</td>\n",
              "      <td>2</td>\n",
              "      <td>W./C. 6607</td>\n",
              "      <td>23.4500</td>\n",
              "      <td>NaN</td>\n",
              "      <td>S</td>\n",
              "    </tr>\n",
              "    <tr>\n",
              "      <th>889</th>\n",
              "      <td>890</td>\n",
              "      <td>1</td>\n",
              "      <td>1</td>\n",
              "      <td>Behr, Mr. Karl Howell</td>\n",
              "      <td>male</td>\n",
              "      <td>26.0</td>\n",
              "      <td>0</td>\n",
              "      <td>0</td>\n",
              "      <td>111369</td>\n",
              "      <td>30.0000</td>\n",
              "      <td>C148</td>\n",
              "      <td>C</td>\n",
              "    </tr>\n",
              "    <tr>\n",
              "      <th>890</th>\n",
              "      <td>891</td>\n",
              "      <td>0</td>\n",
              "      <td>3</td>\n",
              "      <td>Dooley, Mr. Patrick</td>\n",
              "      <td>male</td>\n",
              "      <td>32.0</td>\n",
              "      <td>0</td>\n",
              "      <td>0</td>\n",
              "      <td>370376</td>\n",
              "      <td>7.7500</td>\n",
              "      <td>NaN</td>\n",
              "      <td>Q</td>\n",
              "    </tr>\n",
              "  </tbody>\n",
              "</table>\n",
              "<p>891 rows × 12 columns</p>\n",
              "</div>\n",
              "    <div class=\"colab-df-buttons\">\n",
              "\n",
              "  <div class=\"colab-df-container\">\n",
              "    <button class=\"colab-df-convert\" onclick=\"convertToInteractive('df-4316c8b9-375d-47ab-a16b-d767b5ad3cc8')\"\n",
              "            title=\"Convert this dataframe to an interactive table.\"\n",
              "            style=\"display:none;\">\n",
              "\n",
              "  <svg xmlns=\"http://www.w3.org/2000/svg\" height=\"24px\" viewBox=\"0 -960 960 960\">\n",
              "    <path d=\"M120-120v-720h720v720H120Zm60-500h600v-160H180v160Zm220 220h160v-160H400v160Zm0 220h160v-160H400v160ZM180-400h160v-160H180v160Zm440 0h160v-160H620v160ZM180-180h160v-160H180v160Zm440 0h160v-160H620v160Z\"/>\n",
              "  </svg>\n",
              "    </button>\n",
              "\n",
              "  <style>\n",
              "    .colab-df-container {\n",
              "      display:flex;\n",
              "      gap: 12px;\n",
              "    }\n",
              "\n",
              "    .colab-df-convert {\n",
              "      background-color: #E8F0FE;\n",
              "      border: none;\n",
              "      border-radius: 50%;\n",
              "      cursor: pointer;\n",
              "      display: none;\n",
              "      fill: #1967D2;\n",
              "      height: 32px;\n",
              "      padding: 0 0 0 0;\n",
              "      width: 32px;\n",
              "    }\n",
              "\n",
              "    .colab-df-convert:hover {\n",
              "      background-color: #E2EBFA;\n",
              "      box-shadow: 0px 1px 2px rgba(60, 64, 67, 0.3), 0px 1px 3px 1px rgba(60, 64, 67, 0.15);\n",
              "      fill: #174EA6;\n",
              "    }\n",
              "\n",
              "    .colab-df-buttons div {\n",
              "      margin-bottom: 4px;\n",
              "    }\n",
              "\n",
              "    [theme=dark] .colab-df-convert {\n",
              "      background-color: #3B4455;\n",
              "      fill: #D2E3FC;\n",
              "    }\n",
              "\n",
              "    [theme=dark] .colab-df-convert:hover {\n",
              "      background-color: #434B5C;\n",
              "      box-shadow: 0px 1px 3px 1px rgba(0, 0, 0, 0.15);\n",
              "      filter: drop-shadow(0px 1px 2px rgba(0, 0, 0, 0.3));\n",
              "      fill: #FFFFFF;\n",
              "    }\n",
              "  </style>\n",
              "\n",
              "    <script>\n",
              "      const buttonEl =\n",
              "        document.querySelector('#df-4316c8b9-375d-47ab-a16b-d767b5ad3cc8 button.colab-df-convert');\n",
              "      buttonEl.style.display =\n",
              "        google.colab.kernel.accessAllowed ? 'block' : 'none';\n",
              "\n",
              "      async function convertToInteractive(key) {\n",
              "        const element = document.querySelector('#df-4316c8b9-375d-47ab-a16b-d767b5ad3cc8');\n",
              "        const dataTable =\n",
              "          await google.colab.kernel.invokeFunction('convertToInteractive',\n",
              "                                                    [key], {});\n",
              "        if (!dataTable) return;\n",
              "\n",
              "        const docLinkHtml = 'Like what you see? Visit the ' +\n",
              "          '<a target=\"_blank\" href=https://colab.research.google.com/notebooks/data_table.ipynb>data table notebook</a>'\n",
              "          + ' to learn more about interactive tables.';\n",
              "        element.innerHTML = '';\n",
              "        dataTable['output_type'] = 'display_data';\n",
              "        await google.colab.output.renderOutput(dataTable, element);\n",
              "        const docLink = document.createElement('div');\n",
              "        docLink.innerHTML = docLinkHtml;\n",
              "        element.appendChild(docLink);\n",
              "      }\n",
              "    </script>\n",
              "  </div>\n",
              "\n",
              "\n",
              "<div id=\"df-1fed51ea-05df-41ab-b663-7405ccaf19b6\">\n",
              "  <button class=\"colab-df-quickchart\" onclick=\"quickchart('df-1fed51ea-05df-41ab-b663-7405ccaf19b6')\"\n",
              "            title=\"Suggest charts.\"\n",
              "            style=\"display:none;\">\n",
              "\n",
              "<svg xmlns=\"http://www.w3.org/2000/svg\" height=\"24px\"viewBox=\"0 0 24 24\"\n",
              "     width=\"24px\">\n",
              "    <g>\n",
              "        <path d=\"M19 3H5c-1.1 0-2 .9-2 2v14c0 1.1.9 2 2 2h14c1.1 0 2-.9 2-2V5c0-1.1-.9-2-2-2zM9 17H7v-7h2v7zm4 0h-2V7h2v10zm4 0h-2v-4h2v4z\"/>\n",
              "    </g>\n",
              "</svg>\n",
              "  </button>\n",
              "\n",
              "<style>\n",
              "  .colab-df-quickchart {\n",
              "      --bg-color: #E8F0FE;\n",
              "      --fill-color: #1967D2;\n",
              "      --hover-bg-color: #E2EBFA;\n",
              "      --hover-fill-color: #174EA6;\n",
              "      --disabled-fill-color: #AAA;\n",
              "      --disabled-bg-color: #DDD;\n",
              "  }\n",
              "\n",
              "  [theme=dark] .colab-df-quickchart {\n",
              "      --bg-color: #3B4455;\n",
              "      --fill-color: #D2E3FC;\n",
              "      --hover-bg-color: #434B5C;\n",
              "      --hover-fill-color: #FFFFFF;\n",
              "      --disabled-bg-color: #3B4455;\n",
              "      --disabled-fill-color: #666;\n",
              "  }\n",
              "\n",
              "  .colab-df-quickchart {\n",
              "    background-color: var(--bg-color);\n",
              "    border: none;\n",
              "    border-radius: 50%;\n",
              "    cursor: pointer;\n",
              "    display: none;\n",
              "    fill: var(--fill-color);\n",
              "    height: 32px;\n",
              "    padding: 0;\n",
              "    width: 32px;\n",
              "  }\n",
              "\n",
              "  .colab-df-quickchart:hover {\n",
              "    background-color: var(--hover-bg-color);\n",
              "    box-shadow: 0 1px 2px rgba(60, 64, 67, 0.3), 0 1px 3px 1px rgba(60, 64, 67, 0.15);\n",
              "    fill: var(--button-hover-fill-color);\n",
              "  }\n",
              "\n",
              "  .colab-df-quickchart-complete:disabled,\n",
              "  .colab-df-quickchart-complete:disabled:hover {\n",
              "    background-color: var(--disabled-bg-color);\n",
              "    fill: var(--disabled-fill-color);\n",
              "    box-shadow: none;\n",
              "  }\n",
              "\n",
              "  .colab-df-spinner {\n",
              "    border: 2px solid var(--fill-color);\n",
              "    border-color: transparent;\n",
              "    border-bottom-color: var(--fill-color);\n",
              "    animation:\n",
              "      spin 1s steps(1) infinite;\n",
              "  }\n",
              "\n",
              "  @keyframes spin {\n",
              "    0% {\n",
              "      border-color: transparent;\n",
              "      border-bottom-color: var(--fill-color);\n",
              "      border-left-color: var(--fill-color);\n",
              "    }\n",
              "    20% {\n",
              "      border-color: transparent;\n",
              "      border-left-color: var(--fill-color);\n",
              "      border-top-color: var(--fill-color);\n",
              "    }\n",
              "    30% {\n",
              "      border-color: transparent;\n",
              "      border-left-color: var(--fill-color);\n",
              "      border-top-color: var(--fill-color);\n",
              "      border-right-color: var(--fill-color);\n",
              "    }\n",
              "    40% {\n",
              "      border-color: transparent;\n",
              "      border-right-color: var(--fill-color);\n",
              "      border-top-color: var(--fill-color);\n",
              "    }\n",
              "    60% {\n",
              "      border-color: transparent;\n",
              "      border-right-color: var(--fill-color);\n",
              "    }\n",
              "    80% {\n",
              "      border-color: transparent;\n",
              "      border-right-color: var(--fill-color);\n",
              "      border-bottom-color: var(--fill-color);\n",
              "    }\n",
              "    90% {\n",
              "      border-color: transparent;\n",
              "      border-bottom-color: var(--fill-color);\n",
              "    }\n",
              "  }\n",
              "</style>\n",
              "\n",
              "  <script>\n",
              "    async function quickchart(key) {\n",
              "      const quickchartButtonEl =\n",
              "        document.querySelector('#' + key + ' button');\n",
              "      quickchartButtonEl.disabled = true;  // To prevent multiple clicks.\n",
              "      quickchartButtonEl.classList.add('colab-df-spinner');\n",
              "      try {\n",
              "        const charts = await google.colab.kernel.invokeFunction(\n",
              "            'suggestCharts', [key], {});\n",
              "      } catch (error) {\n",
              "        console.error('Error during call to suggestCharts:', error);\n",
              "      }\n",
              "      quickchartButtonEl.classList.remove('colab-df-spinner');\n",
              "      quickchartButtonEl.classList.add('colab-df-quickchart-complete');\n",
              "    }\n",
              "    (() => {\n",
              "      let quickchartButtonEl =\n",
              "        document.querySelector('#df-1fed51ea-05df-41ab-b663-7405ccaf19b6 button');\n",
              "      quickchartButtonEl.style.display =\n",
              "        google.colab.kernel.accessAllowed ? 'block' : 'none';\n",
              "    })();\n",
              "  </script>\n",
              "</div>\n",
              "    </div>\n",
              "  </div>\n"
            ]
          },
          "metadata": {},
          "execution_count": 14
        }
      ]
    },
    {
      "cell_type": "code",
      "source": [
        "Data.describe"
      ],
      "metadata": {
        "colab": {
          "base_uri": "https://localhost:8080/"
        },
        "id": "xjeIbg6ANtgG",
        "outputId": "e5331303-883d-4e3a-85b6-7565e51c7f85"
      },
      "execution_count": 15,
      "outputs": [
        {
          "output_type": "execute_result",
          "data": {
            "text/plain": [
              "<bound method NDFrame.describe of      PassengerId  Survived  Pclass  \\\n",
              "0              1         0       3   \n",
              "1              2         1       1   \n",
              "2              3         1       3   \n",
              "3              4         1       1   \n",
              "4              5         0       3   \n",
              "..           ...       ...     ...   \n",
              "886          887         0       2   \n",
              "887          888         1       1   \n",
              "888          889         0       3   \n",
              "889          890         1       1   \n",
              "890          891         0       3   \n",
              "\n",
              "                                                  Name     Sex   Age  SibSp  \\\n",
              "0                              Braund, Mr. Owen Harris    male  22.0      1   \n",
              "1    Cumings, Mrs. John Bradley (Florence Briggs Th...  female  38.0      1   \n",
              "2                               Heikkinen, Miss. Laina  female  26.0      0   \n",
              "3         Futrelle, Mrs. Jacques Heath (Lily May Peel)  female  35.0      1   \n",
              "4                             Allen, Mr. William Henry    male  35.0      0   \n",
              "..                                                 ...     ...   ...    ...   \n",
              "886                              Montvila, Rev. Juozas    male  27.0      0   \n",
              "887                       Graham, Miss. Margaret Edith  female  19.0      0   \n",
              "888           Johnston, Miss. Catherine Helen \"Carrie\"  female   NaN      1   \n",
              "889                              Behr, Mr. Karl Howell    male  26.0      0   \n",
              "890                                Dooley, Mr. Patrick    male  32.0      0   \n",
              "\n",
              "     Parch            Ticket     Fare Cabin Embarked  \n",
              "0        0         A/5 21171   7.2500   NaN        S  \n",
              "1        0          PC 17599  71.2833   C85        C  \n",
              "2        0  STON/O2. 3101282   7.9250   NaN        S  \n",
              "3        0            113803  53.1000  C123        S  \n",
              "4        0            373450   8.0500   NaN        S  \n",
              "..     ...               ...      ...   ...      ...  \n",
              "886      0            211536  13.0000   NaN        S  \n",
              "887      0            112053  30.0000   B42        S  \n",
              "888      2        W./C. 6607  23.4500   NaN        S  \n",
              "889      0            111369  30.0000  C148        C  \n",
              "890      0            370376   7.7500   NaN        Q  \n",
              "\n",
              "[891 rows x 12 columns]>"
            ]
          },
          "metadata": {},
          "execution_count": 15
        }
      ]
    },
    {
      "cell_type": "code",
      "source": [],
      "metadata": {
        "id": "fryXt7J2NtfH"
      },
      "execution_count": null,
      "outputs": []
    }
  ],
  "metadata": {
    "colab": {
      "collapsed_sections": [
        "jVt420YpLVvo",
        "h3kCiRDiKtfr",
        "OZDC6jCYNCJj",
        "1P8HMSmJNhAB",
        "lbI7vio0Nsg-",
        "g1-QgspnN77g",
        "BgRKgShEOLHl",
        "rbCQwcK0ORTa",
        "2vIzxCHgOabN",
        "Z0SdoOwoOlzP",
        "HVb5PdKyPfKT",
        "Nq1BDazRPLGJ"
      ],
      "provenance": []
    },
    "kernelspec": {
      "display_name": "Python 3",
      "name": "python3"
    },
    "language_info": {
      "name": "python"
    }
  },
  "nbformat": 4,
  "nbformat_minor": 0
}
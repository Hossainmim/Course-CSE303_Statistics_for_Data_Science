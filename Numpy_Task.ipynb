{
  "nbformat": 4,
  "nbformat_minor": 0,
  "metadata": {
    "colab": {
      "provenance": []
    },
    "kernelspec": {
      "name": "python3",
      "display_name": "Python 3"
    },
    "language_info": {
      "name": "python"
    }
  },
  "cells": [
    {
      "cell_type": "markdown",
      "source": [
        "Problem 1: Convert the following 1-D array with 12 elements into a 2-D array. The outermost dimension will have 2 arrays, each with 6 elements:"
      ],
      "metadata": {
        "id": "5uid_GD1bpPj"
      }
    },
    {
      "cell_type": "code",
      "source": [
        "import numpy as np\n",
        "\n",
        "arr = np.array([1, 2, 3, 4, 5, 6, 7, 8, 9, 10, 11, 12])\n",
        "#code\n",
        "New_arry = arr.reshape(2, 6)\n",
        "print(New_arry)\n"
      ],
      "metadata": {
        "id": "rsNDUm6xb3U8",
        "colab": {
          "base_uri": "https://localhost:8080/"
        },
        "outputId": "4e7807ae-1343-43d7-eb01-3f137391bbe4"
      },
      "execution_count": 1,
      "outputs": [
        {
          "output_type": "stream",
          "name": "stdout",
          "text": [
            "[[ 1  2  3  4  5  6]\n",
            " [ 7  8  9 10 11 12]]\n"
          ]
        }
      ]
    },
    {
      "cell_type": "markdown",
      "source": [
        "Problem 2: Convert the following 1-D array into a 3d Array with 1 X 3 elements"
      ],
      "metadata": {
        "id": "zxSPmBPvcwtR"
      }
    },
    {
      "cell_type": "code",
      "source": [
        "import numpy as np\n",
        "\n",
        "arr = np.array([1, 2, 3, 4, 5, 6, 7, 8, 9, 10, 11, 12])\n",
        "#code here\n",
        "New_arry = arr.reshape(1, 3, -1)\n",
        "print(New_arry)\n"
      ],
      "metadata": {
        "id": "YAwiZucbc6Ig",
        "colab": {
          "base_uri": "https://localhost:8080/"
        },
        "outputId": "e230c39a-c292-4f7c-b7d9-a2d289b84e20"
      },
      "execution_count": 2,
      "outputs": [
        {
          "output_type": "stream",
          "name": "stdout",
          "text": [
            "[[[ 1  2  3  4]\n",
            "  [ 5  6  7  8]\n",
            "  [ 9 10 11 12]]]\n"
          ]
        }
      ]
    },
    {
      "cell_type": "markdown",
      "source": [
        "Problem 3: Iterate on the elements of the following 3-D array and add 12 if the number is odd and substract -12 if the number is even and print it.\n"
      ],
      "metadata": {
        "id": "NPvTPz4sddZL"
      }
    },
    {
      "cell_type": "code",
      "source": [
        "import numpy as np\n",
        "arr = np.array([[[1, 2, 3], [4, 5, 6]], [[7, 8, 9], [10, 11, 12]]])\n",
        "#code here\n",
        "shape = arr.shape\n",
        "for N in range(shape[0]):\n",
        "    for M in range(shape[1]):\n",
        "        for K in range(shape[2]):\n",
        "            if arr[N][M][K] % 2 == 0:\n",
        "                arr[N][M][K] -= 12\n",
        "            else:\n",
        "                arr[N][M][K] += 12\n",
        "print(arr)"
      ],
      "metadata": {
        "id": "VzKOXha5dyqu",
        "colab": {
          "base_uri": "https://localhost:8080/"
        },
        "outputId": "21c1758f-4de2-472c-858e-047fe8a7e41a"
      },
      "execution_count": 6,
      "outputs": [
        {
          "output_type": "stream",
          "name": "stdout",
          "text": [
            "[[[ 13 -10  15]\n",
            "  [ -8  17  -6]]\n",
            "\n",
            " [[ 19  -4  21]\n",
            "  [ -2  23   0]]]\n"
          ]
        }
      ]
    },
    {
      "cell_type": "markdown",
      "source": [
        "Problem 4 : Join two 2-D arrays along rows (axis=1):"
      ],
      "metadata": {
        "id": "NI3eNJsiettQ"
      }
    },
    {
      "cell_type": "code",
      "source": [
        "import numpy as np\n",
        "\n",
        "arr1 = np.array([[1, 2], [3, 4],[5,6],[7,8],[9,10]])\n",
        "\n",
        "arr2 = np.array([[5, 6], [7, 8],[70,80],[90,100],[110,120]])\n",
        "\n",
        "#code here\n",
        "Result = np.concatenate((arr1, arr2), axis=1)\n",
        "print(Result)\n"
      ],
      "metadata": {
        "id": "y47_OkRFeTFZ",
        "colab": {
          "base_uri": "https://localhost:8080/"
        },
        "outputId": "2eeae241-151b-4d72-963a-d3fe98e68e4d"
      },
      "execution_count": 7,
      "outputs": [
        {
          "output_type": "stream",
          "name": "stdout",
          "text": [
            "[[  1   2   5   6]\n",
            " [  3   4   7   8]\n",
            " [  5   6  70  80]\n",
            " [  7   8  90 100]\n",
            " [  9  10 110 120]]\n"
          ]
        }
      ]
    },
    {
      "cell_type": "markdown",
      "source": [
        "Problem 5 : Stack two 2-D Array along columns"
      ],
      "metadata": {
        "id": "Q4DHdBHWfCch"
      }
    },
    {
      "cell_type": "code",
      "source": [
        "import numpy as np\n",
        "\n",
        "arr1 = np.array([[1, 2], [3, 4],[5,6],[7,8],[9,10]])\n",
        "\n",
        "arr2 = np.array([[5, 6], [7, 8],[70,80],[90,100],[110,120]])\n",
        "#code here\n",
        "Result = np.column_stack((arr1, arr2))\n",
        "print(Result)"
      ],
      "metadata": {
        "id": "5kqhpSHQfHxg",
        "colab": {
          "base_uri": "https://localhost:8080/"
        },
        "outputId": "7a408e10-3109-4604-d823-bfc7ef9dd85f"
      },
      "execution_count": 14,
      "outputs": [
        {
          "output_type": "stream",
          "name": "stdout",
          "text": [
            "[[  1   2   5   6]\n",
            " [  3   4   7   8]\n",
            " [  5   6  70  80]\n",
            " [  7   8  90 100]\n",
            " [  9  10 110 120]]\n"
          ]
        }
      ]
    },
    {
      "cell_type": "markdown",
      "source": [
        "Problem 5 : Stack two 2-D Array along depth"
      ],
      "metadata": {
        "id": "T5NDOry3foHQ"
      }
    },
    {
      "cell_type": "code",
      "source": [
        "import numpy as np\n",
        "\n",
        "arr1 = np.array([[1, 2], [3, 4],[5,6],[7,8],[9,10]])\n",
        "\n",
        "arr2 = np.array([[5, 6], [7, 8],[70,80],[90,100],[110,120]])\n",
        "#code here\n",
        "Result = np.dstack((arr1, arr2))\n",
        "print(Result)"
      ],
      "metadata": {
        "id": "LBCfdO56fnOB",
        "colab": {
          "base_uri": "https://localhost:8080/"
        },
        "outputId": "7606ddac-e0a1-4144-a512-c1e09ca421e3"
      },
      "execution_count": 15,
      "outputs": [
        {
          "output_type": "stream",
          "name": "stdout",
          "text": [
            "[[[  1   5]\n",
            "  [  2   6]]\n",
            "\n",
            " [[  3   7]\n",
            "  [  4   8]]\n",
            "\n",
            " [[  5  70]\n",
            "  [  6  80]]\n",
            "\n",
            " [[  7  90]\n",
            "  [  8 100]]\n",
            "\n",
            " [[  9 110]\n",
            "  [ 10 120]]]\n"
          ]
        }
      ]
    },
    {
      "cell_type": "markdown",
      "source": [
        "Problem 6 : Create a filter array for the 1d array. If the number is even then store True in then filter array else False\n",
        "And then filter the initial array using the filter array."
      ],
      "metadata": {
        "id": "vNArhnvjf4P4"
      }
    },
    {
      "cell_type": "code",
      "source": [
        "\n",
        "import numpy as np\n",
        "\n",
        "arr = np.array([41, 42, 43, 44, 45, 46, 47, 48, 49, 50, 1, 2, 3, 4, 5, 6, 7, 8, 9, 10])\n",
        "#code here\n",
        "filter_array = (arr % 2 == 0)\n",
        "\n",
        "filtered_array = arr[filter_array]\n",
        "\n",
        "print(\"Filter Array (Even Numbers):\", filter_array)\n",
        "print(\"Filtered Array (Even Numbers):\", filtered_array)"
      ],
      "metadata": {
        "id": "E5Fd4ILwgPtP",
        "colab": {
          "base_uri": "https://localhost:8080/"
        },
        "outputId": "c9b43213-6081-4a50-9a7f-2f1748e515ab"
      },
      "execution_count": 31,
      "outputs": [
        {
          "output_type": "stream",
          "name": "stdout",
          "text": [
            "Filter Array (Even Numbers): [False  True False  True False  True False  True False  True False  True\n",
            " False  True False  True False  True False  True]\n",
            "Filtered Array (Even Numbers): [42 44 46 48 50  2  4  6  8 10]\n"
          ]
        }
      ]
    },
    {
      "cell_type": "markdown",
      "source": [
        "Problem 7 : Generate 50 random numbers and store it in numpy array and then apply the same operations in problem 6"
      ],
      "metadata": {
        "id": "LQOpRLpFgjHP"
      }
    },
    {
      "cell_type": "code",
      "source": [
        "from numpy import random\n",
        "\n",
        "#code here\n",
        "random_numbers = np.random.randint(10, 110, size=50)\n",
        "\n",
        "filter_array = (random_numbers % 2 == 0)\n",
        "\n",
        "filtered_numbers = random_numbers[filter_array]\n",
        "\n",
        "print(\"Random Numbers Array:\", random_numbers)\n",
        "print(\"Filter Array (Even Numbers):\", filter_array)\n",
        "print(\"Filtered Numbers Array (Even Numbers):\", filtered_numbers)\n"
      ],
      "metadata": {
        "id": "dKj7fOelgiDy",
        "colab": {
          "base_uri": "https://localhost:8080/"
        },
        "outputId": "864660f4-fe6d-492d-bcad-e978bc54223d"
      },
      "execution_count": 25,
      "outputs": [
        {
          "output_type": "stream",
          "name": "stdout",
          "text": [
            "Random Numbers Array: [ 83  81  40  35  11  48  74  93  24  91  15  52  72  90  57  12  29  81\n",
            "  96  18  21  98  77  97  87  70  86  61  11  94 108  21 102  67  50  90\n",
            "  29  68 107  41 101  84  40  49  63  20  75  10  85  64]\n",
            "Filter Array (Even Numbers): [False False  True False False  True  True False  True False False  True\n",
            "  True  True False  True False False  True  True False  True False False\n",
            " False  True  True False False  True  True False  True False  True  True\n",
            " False  True False False False  True  True False False  True False  True\n",
            " False  True]\n",
            "Filtered Numbers Array (Even Numbers): [ 40  48  74  24  52  72  90  12  96  18  98  70  86  94 108 102  50  90\n",
            "  68  84  40  20  10  64]\n"
          ]
        }
      ]
    },
    {
      "cell_type": "markdown",
      "source": [
        "Problem 8 :  Slice from the index 3 from the end to index 1 from the end\n"
      ],
      "metadata": {
        "id": "IBkM_-8ahAdg"
      }
    },
    {
      "cell_type": "code",
      "source": [
        "import numpy as np\n",
        "\n",
        "arr1 = np.array([[1, 2], [3, 4],[5,6],[7,8],[9,10]])\n",
        "#code here\n",
        "Sliced_Arr = arr1[-3:-1]\n",
        "\n",
        "print(Sliced_Arr)"
      ],
      "metadata": {
        "id": "s31YDQODf2AJ",
        "colab": {
          "base_uri": "https://localhost:8080/"
        },
        "outputId": "cec12c71-f990-4bd3-8582-e739328cec33"
      },
      "execution_count": 37,
      "outputs": [
        {
          "output_type": "stream",
          "name": "stdout",
          "text": [
            "[[5 6]\n",
            " [7 8]]\n"
          ]
        }
      ]
    },
    {
      "cell_type": "markdown",
      "source": [
        "Problem 9 : Return every two other element from index 1 to index 5:"
      ],
      "metadata": {
        "id": "k9W98WVghRgX"
      }
    },
    {
      "cell_type": "code",
      "source": [
        "import numpy as np\n",
        "arr = np.array([41, 42, 43, 44, 45, 46, 47, 48, 49, 50, 1, 2, 3, 4, 5, 6, 7, 8, 9, 10])"
      ],
      "metadata": {
        "id": "ccGmSkBghiWZ"
      },
      "execution_count": 46,
      "outputs": []
    },
    {
      "cell_type": "code",
      "source": [
        "Sliced_Arr = arr[1:6:2]\n",
        "\n",
        "print(Sliced_Arr)"
      ],
      "metadata": {
        "colab": {
          "base_uri": "https://localhost:8080/"
        },
        "id": "oYQkusEaKkbl",
        "outputId": "be617c5d-0cff-4b51-b4ec-034b6e95a476"
      },
      "execution_count": 47,
      "outputs": [
        {
          "output_type": "stream",
          "name": "stdout",
          "text": [
            "[42 44 46]\n"
          ]
        }
      ]
    },
    {
      "cell_type": "markdown",
      "source": [
        "Problem 10 : Generate a random permutation of elements of following array"
      ],
      "metadata": {
        "id": "-XnAKq1Jhrl_"
      }
    },
    {
      "cell_type": "code",
      "source": [
        "import numpy as np\n",
        "arr = np.array([41, 42, 43, 44, 45, 46, 47, 48, 49, 50, 1, 2, 3, 4, 5, 6, 7, 8, 9, 10])\n",
        "#code here\n",
        "Random_permutation = np.random.permutation(arr)\n",
        "\n",
        "print(Random_permutation)"
      ],
      "metadata": {
        "id": "YEz9cdUYiHXL",
        "colab": {
          "base_uri": "https://localhost:8080/"
        },
        "outputId": "3fe41f06-cb28-4780-807f-34c9f7fe63af"
      },
      "execution_count": 6,
      "outputs": [
        {
          "output_type": "stream",
          "name": "stdout",
          "text": [
            "[ 5 47 43 45 44 46  9 49 48  4  8 10  7  6 50  3  1 42  2 41]\n"
          ]
        }
      ]
    }
  ]
}